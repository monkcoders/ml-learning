{
 "cells": [
  {
   "cell_type": "code",
   "execution_count": 2,
   "id": "df8b94a2-2a74-4818-8633-b8ab754faf5b",
   "metadata": {},
   "outputs": [
    {
     "data": {
      "text/html": [
       "<div>\n",
       "<style scoped>\n",
       "    .dataframe tbody tr th:only-of-type {\n",
       "        vertical-align: middle;\n",
       "    }\n",
       "\n",
       "    .dataframe tbody tr th {\n",
       "        vertical-align: top;\n",
       "    }\n",
       "\n",
       "    .dataframe thead th {\n",
       "        text-align: right;\n",
       "    }\n",
       "</style>\n",
       "<table border=\"1\" class=\"dataframe\">\n",
       "  <thead>\n",
       "    <tr style=\"text-align: right;\">\n",
       "      <th></th>\n",
       "      <th>sepal_length</th>\n",
       "      <th>sepal_width</th>\n",
       "      <th>petal_length</th>\n",
       "      <th>petal_width</th>\n",
       "      <th>species</th>\n",
       "    </tr>\n",
       "  </thead>\n",
       "  <tbody>\n",
       "    <tr>\n",
       "      <th>0</th>\n",
       "      <td>5.1</td>\n",
       "      <td>3.5</td>\n",
       "      <td>1.4</td>\n",
       "      <td>0.2</td>\n",
       "      <td>setosa</td>\n",
       "    </tr>\n",
       "    <tr>\n",
       "      <th>1</th>\n",
       "      <td>4.9</td>\n",
       "      <td>3.0</td>\n",
       "      <td>1.4</td>\n",
       "      <td>0.2</td>\n",
       "      <td>setosa</td>\n",
       "    </tr>\n",
       "    <tr>\n",
       "      <th>2</th>\n",
       "      <td>4.7</td>\n",
       "      <td>3.2</td>\n",
       "      <td>1.3</td>\n",
       "      <td>0.2</td>\n",
       "      <td>setosa</td>\n",
       "    </tr>\n",
       "    <tr>\n",
       "      <th>3</th>\n",
       "      <td>4.6</td>\n",
       "      <td>3.1</td>\n",
       "      <td>1.5</td>\n",
       "      <td>0.2</td>\n",
       "      <td>setosa</td>\n",
       "    </tr>\n",
       "    <tr>\n",
       "      <th>4</th>\n",
       "      <td>5.0</td>\n",
       "      <td>3.6</td>\n",
       "      <td>1.4</td>\n",
       "      <td>0.2</td>\n",
       "      <td>setosa</td>\n",
       "    </tr>\n",
       "  </tbody>\n",
       "</table>\n",
       "</div>"
      ],
      "text/plain": [
       "   sepal_length  sepal_width  petal_length  petal_width species\n",
       "0           5.1          3.5           1.4          0.2  setosa\n",
       "1           4.9          3.0           1.4          0.2  setosa\n",
       "2           4.7          3.2           1.3          0.2  setosa\n",
       "3           4.6          3.1           1.5          0.2  setosa\n",
       "4           5.0          3.6           1.4          0.2  setosa"
      ]
     },
     "execution_count": 2,
     "metadata": {},
     "output_type": "execute_result"
    }
   ],
   "source": [
    "import pandas as pd\n",
    "df = pd.read_csv('iris.csv')\n",
    "df.head()\n"
   ]
  },
  {
   "cell_type": "code",
   "execution_count": 20,
   "id": "7bb981ac-a104-47eb-9b0f-e575c7403a00",
   "metadata": {},
   "outputs": [
    {
     "name": "stdout",
     "output_type": "stream",
     "text": [
      "[1, 2, 'ds', 1.5]\n",
      "[1, 2, 'ds', 1.5]\n",
      "[1, 2, 'ds', 1.5, 'new']\n",
      "[1, 2, 'ds', 1.5, 'new']\n",
      "[1, 2, 'ds', 1.5, 'new']\n",
      "[1, 2, 'ds', 1.5, 'new', 12]\n",
      "[2, 'ds', 1.5, 'new']\n",
      "[1, 2, 'ds', 1.5, 'new']\n",
      "[1, 2, [3, 4, 5], 6]\n",
      "[1, 2, [3, 4, 5], 6]\n",
      "[1, 2, [3, 4, 5], 6, 7]\n",
      "[1, 2, [3, 4, 5], 6]\n",
      "[1, 2, [3, 9, 5], 6, 7] 131255274157760\n",
      "[1, 2, [3, 9, 5], 6] 131255274157760\n"
     ]
    }
   ],
   "source": [
    "list1 = [1,2,\"ds\",1.5]\n",
    "print(list1)\n",
    "list2 = list1\n",
    "print(list2)\n",
    "\n",
    "list2.append(\"new\") #shared reference or variable aliasing\n",
    "print(list1)\n",
    "print(list2)\n",
    "list3 = list2[:] # shallow copy \n",
    "list3.append(12)\n",
    "print(list2)\n",
    "print(list3)\n",
    "\n",
    "list4= list2.copy() #shallow copy \n",
    "list4.remove(1)\n",
    "print(list4)\n",
    "print(list2)\n",
    "\n",
    "\n",
    "## shallow copy creates a copy of the compound object however the internal objects refer to the same address\n",
    "list_1 = [1,2,[3,4,5],6]\n",
    "list_2 = list_1.copy()\n",
    "print(list_1)\n",
    "print(list_2)\n",
    "list_1.append(7)\n",
    "print(list_1)\n",
    "print(list_2)\n",
    "list_2[2][1] = 9\n",
    "print(list_1, id(list_1[2]))\n",
    "print(list_2, id(list_2[2]))\n",
    "\n",
    "\n",
    "\n",
    "\n",
    "\n"
   ]
  },
  {
   "cell_type": "code",
   "execution_count": 22,
   "id": "42b0f0c8-6948-47e9-b66c-de14fb035125",
   "metadata": {},
   "outputs": [
    {
     "name": "stdout",
     "output_type": "stream",
     "text": [
      "[1, 2, [3, 4, 5, 6], 7] 131255274122240\n",
      "[1, 2, [3, 4, 5, 6], 7] 131255273699840\n",
      "[1, 2, [3, 4, 5, 6], 7] 131255274122240\n",
      "[1, 2, ['a', 4, 5, 6], 7] 131255273699840\n"
     ]
    }
   ],
   "source": [
    "import copy\n",
    "list1 = [1,2,[3,4,5,6],7]\n",
    "list2 = copy.deepcopy(list1)\n",
    "print(list1, id(list1[2]))\n",
    "print(list2, id(list2[2]))\n",
    "\n",
    "list2[2][0]='a'\n",
    "print(list1, id(list1[2]))\n",
    "print(list2, id(list2[2]))\n"
   ]
  },
  {
   "cell_type": "code",
   "execution_count": 34,
   "id": "080781f5-2bca-4f68-972b-34fb65ed0e1a",
   "metadata": {},
   "outputs": [
    {
     "name": "stdout",
     "output_type": "stream",
     "text": [
      "[5, 10, 15, 20]\n",
      "5\n",
      "20\n",
      "15\n",
      "[5, 10, 15, 20]\n",
      "[15, 20]\n",
      "[5, 15]\n",
      "[20, 15, 10, 5]\n",
      "[20, 10]\n",
      "[5, 10]\n"
     ]
    }
   ],
   "source": [
    "list1 = [1,2,3,4]\n",
    "list2 = [i*5  for i in list1]\n",
    "print(list2)\n",
    "print(list2[0])\n",
    "print(list2[-1])\n",
    "print(list2[-2])\n",
    "print(list2[::])\n",
    "print(list2[2:])\n",
    "print(list2[::2])\n",
    "print(list2[::-1])\n",
    "print(list2[::-2])\n",
    "print(list2[:2])\n"
   ]
  },
  {
   "cell_type": "code",
   "execution_count": 38,
   "id": "2a8930ec-8974-454d-84cf-bc1783f18e16",
   "metadata": {},
   "outputs": [
    {
     "name": "stdin",
     "output_type": "stream",
     "text": [
      "Enter your name sd\n"
     ]
    },
    {
     "name": "stdout",
     "output_type": "stream",
     "text": [
      "Hey sd 2025-07-17 00:44:40.113410\n"
     ]
    }
   ],
   "source": [
    "from datetime import datetime \n",
    "name = input(\"Enter your name\");\n",
    "time = datetime.now().\n",
    "print(\"Hey\", name, time)"
   ]
  }
 ],
 "metadata": {
  "kernelspec": {
   "display_name": "Python 3 (ipykernel)",
   "language": "python",
   "name": "python3"
  },
  "language_info": {
   "codemirror_mode": {
    "name": "ipython",
    "version": 3
   },
   "file_extension": ".py",
   "mimetype": "text/x-python",
   "name": "python",
   "nbconvert_exporter": "python",
   "pygments_lexer": "ipython3",
   "version": "3.10.12"
  }
 },
 "nbformat": 4,
 "nbformat_minor": 5
}
